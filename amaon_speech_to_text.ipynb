{
 "cells": [
  {
   "cell_type": "code",
   "execution_count": 1,
   "metadata": {},
   "outputs": [
    {
     "name": "stdout",
     "output_type": "stream",
     "text": [
      "Waiting for Example-job. Current status is IN_PROGRESS.\n",
      "Job Example-job is COMPLETED.\n",
      "========== below is output of speech-to-text ========================\n",
      "Welcome to English in a minute. If you've ever gardened, you know, weeds grow super fast. They can take over a garden overnight. But what does grow like a weed mean in other situations? Hey, Dan. Do you want to see pictures from my trip home? Oh, jeez. I would love to. Uh, but great. This is me with my little cousin, Arlo. Little. He's taller than you. I know he is growing like a weed. He's only 10. Does he have a beard to grow like a weed just means to grow very quickly. We mostly use this expression when talking about how fast Children grow. And that's English in a minute.\n",
      "=====================================================================\n"
     ]
    }
   ],
   "source": [
    "import boto3\n",
    "import time\n",
    "import urllib\n",
    "import json\n",
    "    \n",
    "transcribe_client = boto3.client('transcribe')\n",
    "\n",
    "def transcribe_file(job_name, file_uri, transcribe_client):\n",
    "    transcribe_client.start_transcription_job(\n",
    "        TranscriptionJobName=job_name,\n",
    "        Media={'MediaFileUri': file_uri},\n",
    "        MediaFormat='mp3',\n",
    "        LanguageCode='en-US'\n",
    "    )\n",
    "\n",
    "    max_tries = 60\n",
    "    while max_tries > 0:\n",
    "        max_tries -= 1\n",
    "        job = transcribe_client.get_transcription_job(TranscriptionJobName=job_name)\n",
    "        job_status = job['TranscriptionJob']['TranscriptionJobStatus']\n",
    "        if job_status in ['COMPLETED', 'FAILED']:\n",
    "            print(f\"Job {job_name} is {job_status}.\")\n",
    "            if job_status == 'COMPLETED':\n",
    "                response = urllib.request.urlopen(job['TranscriptionJob']['Transcript']['TranscriptFileUri'])\n",
    "                data = json.loads(response.read())\n",
    "                text = data['results']['transcripts'][0]['transcript']\n",
    "                print(\"========== below is output of speech-to-text ========================\")\n",
    "                print(text)\n",
    "                print(\"=====================================================================\")\n",
    "            break\n",
    "        else:\n",
    "            print(f\"Waiting for {job_name}. Current status is {job_status}.\")\n",
    "        time.sleep(10)\n",
    "\n",
    "\n",
    "def main():\n",
    "    file_uri = 's3://vivekp/English in a Minute Grow Like a Weed.mp4'\n",
    "    transcribe_file('Example-job', file_uri, transcribe_client)\n",
    "\n",
    "\n",
    "if __name__ == '__main__':\n",
    "    main()"
   ]
  }
 ],
 "metadata": {
  "kernelspec": {
   "display_name": "dlproj",
   "language": "python",
   "name": "python3"
  },
  "language_info": {
   "codemirror_mode": {
    "name": "ipython",
    "version": 3
   },
   "file_extension": ".py",
   "mimetype": "text/x-python",
   "name": "python",
   "nbconvert_exporter": "python",
   "pygments_lexer": "ipython3",
   "version": "3.12.1"
  }
 },
 "nbformat": 4,
 "nbformat_minor": 2
}
